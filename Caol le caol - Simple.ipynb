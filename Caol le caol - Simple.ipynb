{
 "cells": [
  {
   "cell_type": "markdown",
   "id": "64f36f89",
   "metadata": {},
   "source": [
    "# Soirbhiochas Demo"
   ]
  },
  {
   "cell_type": "markdown",
   "id": "707706a7",
   "metadata": {},
   "source": [
    "For this demo to work, you will need a copy of the Irish Universal Dependencies treebank (`ga_idt-ud-train.conllu`), a copy of common prefixes in Irish (WARNING: VERY ROUGH) from `github.com/philtweir/wikt-irish-prefixes` and the BuNaMo corpus, which should by default be placed in `./data` (`github.com/michmech/BuNaMo`). If you have any difficulty finding these, check the `build.sh` script."
   ]
  },
  {
   "cell_type": "code",
   "execution_count": 1,
   "id": "ee7f97f4",
   "metadata": {},
   "outputs": [
    {
     "name": "stderr",
     "output_type": "stream",
     "text": [
      "WARNING:root:You are using the v2 package within GramadánPy. It has not been fully tested, and is not comparable to the real Gramadán functionality... you have been warned!\n",
      "To address perceived minor issues, this actually changes some of the regex matching in Opers.Slenderize - marked with a v2 flag.\n"
     ]
    }
   ],
   "source": [
    "from soirbhiochas import staidreamh\n",
    "from soirbhiochas import visualization\n",
    "from soirbhiochas.leabharlann import * # simplifies rule-building"
   ]
  },
  {
   "cell_type": "code",
   "execution_count": 2,
   "id": "74cc1131",
   "metadata": {},
   "outputs": [],
   "source": [
    "from soirbhiochas.díolaim import Díolaim, CorrectionDict\n",
    "from soirbhiochas.parsáil import Lexicon"
   ]
  },
  {
   "cell_type": "code",
   "execution_count": 3,
   "id": "1f17bb03",
   "metadata": {},
   "outputs": [],
   "source": [
    "CONLLU = \"ga_idt-ud-train.conllu\"\n",
    "TYPOS = \"suspected_typos.txt\""
   ]
  },
  {
   "cell_type": "code",
   "execution_count": 4,
   "id": "b18eadec",
   "metadata": {},
   "outputs": [],
   "source": [
    "corrections: CorrectionDict = {}\n",
    "\n",
    "with open(TYPOS, 'r') as f:\n",
    "    correction_lines = f.readlines()\n",
    "for line in correction_lines:\n",
    "    from_form, from_upos, to_form, to_upos = line.split(',')\n",
    "    corrections[(from_upos, from_form)] = (to_upos, to_form)"
   ]
  },
  {
   "cell_type": "markdown",
   "id": "f172e446",
   "metadata": {},
   "source": [
    "## Rule-building"
   ]
  },
  {
   "cell_type": "markdown",
   "id": "078cb32e",
   "metadata": {},
   "source": [
    "Here we build Caol le Caol using simpler rules. The implementation of these is also fairly basic, but it's easiest to pull them in from `soibhiochas.leabharlann`"
   ]
  },
  {
   "cell_type": "code",
   "execution_count": 28,
   "id": "8aadadd7",
   "metadata": {},
   "outputs": [],
   "source": [
    "class CaolLeCaol(Riail):\n",
    "    gairid = \"Caol le caol\"\n",
    "    prefix = \"clc\"\n",
    "    fada = \"Caol le caol, leathan le leathan\"\n",
    "    béarla = \"Slender with slender, broad with broad\"\n",
    "    míniú = \"Caithfidh go haontaíonn na gutaí ar dhá thaobh consain\"\n",
    "    soláithraíonn = (\"pointí_teipe\",)\n",
    "\n",
    "    def tástáladh(self, focal: FocalGinearalta, aschuir: dict) -> bool:\n",
    "        aschuir[\"pointí_teipe\"] = []\n",
    "        focal = focal.lower()\n",
    "        consain_blocks = get_consonant_blocks(focal)\n",
    "        for s, f in consain_blocks:\n",
    "            if s > 0 and f < len(focal) - 1:\n",
    "                g1 = focal[s - 1]\n",
    "                g2 = focal[f + 1]\n",
    "                assert g1 in GUTAÍ\n",
    "                assert g2 in GUTAÍ\n",
    "\n",
    "                if g1 in GUTAÍ_CAOL and g2 in GUTAÍ_LEATHAN \\\n",
    "                        or g1 in GUTAÍ_LEATHAN and g2 in GUTAÍ_CAOL:\n",
    "                    aschuir[\"pointí_teipe\"].append((s, f))\n",
    "        return not bool(aschuir[\"pointí_teipe\"])"
   ]
  },
  {
   "cell_type": "code",
   "execution_count": 31,
   "id": "f07752a2",
   "metadata": {},
   "outputs": [],
   "source": [
    "CAOL_LE_CAOL = (CaolLeCaol()\n",
    "    # Exceptions\n",
    "    .eisceacht_a_dhéanamh(\n",
    "        # Contractions, if the expanded form passes (we put this here to ensure\n",
    "        # they are not labelled as compound words, e.g. anseo vs anbhás)\n",
    "        IsContraction() & expanded_form_passes,\n",
    "        \"...ach amháin 'ansin' agus 'anseo'\"\n",
    "    )\n",
    "    .eisceacht_a_dhéanamh(\n",
    "        # Compound words, if the breakpoints are where CLC fails\n",
    "        FocailChumaisc() & is_breakpoint_in_failure_area,\n",
    "        \"...agus roinnt focail chumaisc\"\n",
    "    )\n",
    "    .eisceacht_a_dhéanamh(\n",
    "        # Is a preposition\n",
    "        is_a_preposition,\n",
    "        \"...agus roinnt reamhfhocail\"\n",
    "    )\n",
    "    .eisceacht_a_dhéanamh(\n",
    "        # Where a slender e is really a broad ae\n",
    "        a_is_ae,\n",
    "        \"...agus nuair a bhíonn 'ae' leathan i ndáirire\"\n",
    "    )\n",
    "    .eisceacht_a_dhéanamh(\n",
    "        # Just one of those words that just begins with an A\n",
    "        # Mainly: arís, areir, aniar, adeir, ...\n",
    "        begins_with_a,\n",
    "        \"...agus roinnt dobhríathair a thosaíonn le 'a'\"\n",
    "    )\n",
    "    .eisceacht_a_dhéanamh(\n",
    "        # This is a loanword\n",
    "        is_foreign,\n",
    "        \"...agus focail iasachta\"\n",
    "    )\n",
    "    .eisceacht_a_dhéanamh(\n",
    "        # There are enough examples to suggest this is the one\n",
    "        # true exception - féadfaidh exists, but so does féadfidh\n",
    "        # in a range of sources\n",
    "        RiailIs(\"féadfidh\"),\n",
    "        \"...agus 'féadfidh'\"\n",
    "    )\n",
    ")"
   ]
  },
  {
   "cell_type": "markdown",
   "id": "d0be26df",
   "metadata": {},
   "source": [
    "## Dictionary data\n",
    "\n",
    "Next we load dictionaries and third-party data."
   ]
  },
  {
   "cell_type": "code",
   "execution_count": 32,
   "id": "cc5a8264",
   "metadata": {},
   "outputs": [],
   "source": [
    "staidreamh.add_loadable(\"prefixes\", \"wikt-irish-prefixes/wikt-irish-prefixes.txt\")\n",
    "\n",
    "lexicon = Lexicon()\n",
    "lexicon.load()\n",
    "staidreamh.add_loadable(\"lexicon\", lexicon)\n",
    "\n",
    "corpas = Díolaim.cruthaíodh_as_comhad(CONLLU, lexicon.find_by_token, corrections=corrections)"
   ]
  },
  {
   "cell_type": "markdown",
   "id": "b51353a4",
   "metadata": {},
   "source": [
    "## Executing the count\n",
    "\n",
    "Finally, we can run the rule and its exceptions against the corpus."
   ]
  },
  {
   "cell_type": "code",
   "execution_count": 33,
   "id": "5b3159ac",
   "metadata": {},
   "outputs": [],
   "source": [
    "def only_for_normal_words(focal):\n",
    "    return (focal.upos not in ('PROPN', 'SYM', 'X'))"
   ]
  },
  {
   "cell_type": "code",
   "execution_count": 35,
   "id": "15475316",
   "metadata": {
    "scrolled": true
   },
   "outputs": [
    {
     "name": "stderr",
     "output_type": "stream",
     "text": [
      "100%|████████████████████████████████████████████████████████████████████████████████████████████████████████████████████████████| 95881/95881 [00:27<00:00, 3444.93it/s]"
     ]
    },
    {
     "name": "stdout",
     "output_type": "stream",
     "text": [
      "Found 122 exceptions\n",
      "   t-uisceshaothrú 3            shaolré 2               insa 2\n",
      "          istoíche 2       dlúthdhiosca 2         ghéarchéim 2\n",
      "       breisluacha 2            neamhní 2    ranníocaíochtaí 2\n",
      "     uisceshaothrú 2       fhadtéarmach 2          eischósta 2\n",
      "               agena        Bordcheantair        Bhordcheantar\n",
      "            tsecoind              magenta           tonnchrith\n",
      "   pobalbhreitheanna fadbhreathnaitheacha         cillscannáin\n",
      "           suimiúila            phíchairt           lánchreach\n",
      "luath-athbheochantóirí     lúthchleasaíocht             ghiorria\n",
      "           bánéadach                Dhera      meitéareolaithe\n",
      "            pubcheol       consighneachta        dtoghcheantar\n",
      "        dlíthairgthe             déanfidh            dheonfidh\n",
      "             ndintar               dintar            shaorfidh\n",
      "     gairmoideachais              lánseol            fáthmheas\n",
      "           dimhúinte            tuinairde      thonnchreathach\n",
      "      dlúthcheirníní         pobalbhreith     fhuilaistriúchán\n",
      "   chríochdheighilte         géarleanúint       Deilbhpháipéar\n",
      "        Galareaglach        dlúthcheangal              ógbhean\n",
      "       truamhéileach          scaoilfaidh                Derga\n",
      "              churfí          scátheagras          chairtchlár\n",
      "               Peeca               saolré          rúnseirbhís\n",
      "        clúmhilleadh             thógfidh                 féna\n",
      "            túslitir           aoisghrúpa       fritruaillithe\n",
      "     lúthchleasaithe              (e)amar          síolteagasc\n",
      "          chorragiob        léirscáilithe        coismhuintire\n",
      "         sprechaille        shnáithaonaid    caoinfhulaingeach\n",
      "        chairtchláir          Tradisiúnta    sprioc-aoisghrúpa\n",
      "           snagcheol             popcheol              ranníoc\n",
      "        fhadtréimhse            géarchéim   dréachtcheartúchán\n",
      "        ghrinnscrúdú          chlóphreasa        ranníocaíocht\n",
      "         fadtéarmach        fhadtéarmacha          bhfadtéarma\n",
      "       Slímharcáilte        téacsleabhair           cruacheist\n",
      "        fadtéarmacha          chuíchóiriú        geatabhealach\n",
      "        gníomhphlean               seanré               estáit\n",
      "    meitéareolaíocha       fadtréimhseach    ionadaípolaitiúil\n",
      "              LEADER           meanmhéide          nascleanúna\n",
      "   mhuirshaothraithe         buaicphointí            marbhghin\n",
      "        fadthéarmach                chose           fadtéarmaí\n",
      "       colceathracha           hógeagrais            Aoisbhách\n",
      "       leabhareolach        fleascleagain           breisluach\n",
      "  Caol le caol | With rep: P 181044 F 270 T 177784 E 3260 | By lemma: P 5951 F 80 T 5578 E 373 | By demut: P 26587 F 203 T 24758 E 1829 | By form: P 11038 F 122 T 10469 E 569\n",
      "  EISCEACHTAÍ\n",
      "  \\\n",
      "    IDIR | With rep: P 180 F 3350 | By lemma: P 2 F 450 | By demut: P 2 F 2030 | By form: P 2 F 689\n",
      "    (\n",
      "      Contraction? | With rep: P 180 F 3350 | By lemma: P 2 F 450 | By demut: P 2 F 2030 | By form: P 2 F 689\n",
      "     +\n",
      "      expanded_form_passes | With rep: P 180 F 0 | By lemma: P 2 F 0 | By demut: P 2 F 0 | By form: P 2 F 0\n",
      "    )\n",
      "  \\\n",
      "    IDIR | With rep: P 1800 F 1550 | By lemma: P 345 F 108 | By demut: P 914 F 1116 | By form: P 507 F 182\n",
      "    (\n",
      "      Más focal chumaisc é | With rep: P 1818 F 1532 | By lemma: P 350 F 101 | By demut: P 931 F 1099 | By form: P 516 F 173\n",
      "     +\n",
      "      is_breakpoint_in_failure_area | With rep: P 1800 F 18 | By lemma: P 345 F 7 | By demut: P 914 F 17 | By form: P 507 F 9\n",
      "    )\n",
      "  \\\n",
      "    is_a_preposition | With rep: P 1064 F 486 | By lemma: P 0 F 108 | By demut: P 829 F 287 | By form: P 13 F 169\n",
      "  \\\n",
      "    a_is_ae | With rep: P 78 F 408 | By lemma: P 9 F 99 | By demut: P 27 F 260 | By form: P 19 F 150\n",
      "  \\\n",
      "    begins_with_a | With rep: P 96 F 312 | By lemma: P 7 F 95 | By demut: P 20 F 240 | By form: P 10 F 140\n",
      "  \\\n",
      "    is_foreign | With rep: P 36 F 276 | By lemma: P 15 F 80 | By demut: P 36 F 204 | By form: P 17 F 123\n",
      "  \\\n",
      "    Is féadfidh | With rep: P 6 F 270 | By lemma: P 1 F 80 | By demut: P 1 F 203 | By form: P 1 F 122\n"
     ]
    },
    {
     "name": "stderr",
     "output_type": "stream",
     "text": [
      "\n"
     ]
    }
   ],
   "source": [
    "CAOL_LE_CAOL.set_sample_size(5)\n",
    "counter, statistics = staidreamh.count_rule_by_word(CAOL_LE_CAOL, corpas.de_réir_focal(), only_for_normal_words)\n",
    "print(f\"Found {len(counter)} exceptions\")\n",
    "most_common = counter.most_common(150)\n",
    "for row in zip(*[most_common[i::3] for i in range(3)]):\n",
    "    row = [r[0] if r[1] == 1 else f\"{r[0]} {r[1]}\" for r in row]\n",
    "    print(f\"{row[0]: >20} {row[1]: >20} {row[2]: >20}\")\n",
    "\n",
    "counts = CAOL_LE_CAOL.get_counts()\n",
    "staidreamh.print_count(counts, indent=2)"
   ]
  },
  {
   "cell_type": "markdown",
   "id": "ef8779bf",
   "metadata": {},
   "source": [
    "Note that the exceptions printed at the end are those that have not been caught by any registered exception to the top-level rule (Caol le caol)."
   ]
  },
  {
   "cell_type": "markdown",
   "id": "3246f223",
   "metadata": {},
   "source": [
    "## Visualization"
   ]
  },
  {
   "cell_type": "markdown",
   "id": "eabe0f1b",
   "metadata": {},
   "source": [
    "We now use altair to get an interactive diagram illustrating these counts."
   ]
  },
  {
   "cell_type": "code",
   "execution_count": 36,
   "id": "980d5ae9",
   "metadata": {},
   "outputs": [],
   "source": [
    "ad = visualization.counts_to_vegalite(CAOL_LE_CAOL.fada, counts)"
   ]
  },
  {
   "cell_type": "code",
   "execution_count": 37,
   "id": "3dd7b002",
   "metadata": {},
   "outputs": [
    {
     "data": {
      "text/html": [
       "\n",
       "<div id=\"altair-viz-e6223741bb384162bc0f26f29dfc61a7\"></div>\n",
       "<script type=\"text/javascript\">\n",
       "  var VEGA_DEBUG = (typeof VEGA_DEBUG == \"undefined\") ? {} : VEGA_DEBUG;\n",
       "  (function(spec, embedOpt){\n",
       "    let outputDiv = document.currentScript.previousElementSibling;\n",
       "    if (outputDiv.id !== \"altair-viz-e6223741bb384162bc0f26f29dfc61a7\") {\n",
       "      outputDiv = document.getElementById(\"altair-viz-e6223741bb384162bc0f26f29dfc61a7\");\n",
       "    }\n",
       "    const paths = {\n",
       "      \"vega\": \"https://cdn.jsdelivr.net/npm//vega@5?noext\",\n",
       "      \"vega-lib\": \"https://cdn.jsdelivr.net/npm//vega-lib?noext\",\n",
       "      \"vega-lite\": \"https://cdn.jsdelivr.net/npm//vega-lite@4.17.0?noext\",\n",
       "      \"vega-embed\": \"https://cdn.jsdelivr.net/npm//vega-embed@6?noext\",\n",
       "    };\n",
       "\n",
       "    function maybeLoadScript(lib, version) {\n",
       "      var key = `${lib.replace(\"-\", \"\")}_version`;\n",
       "      return (VEGA_DEBUG[key] == version) ?\n",
       "        Promise.resolve(paths[lib]) :\n",
       "        new Promise(function(resolve, reject) {\n",
       "          var s = document.createElement('script');\n",
       "          document.getElementsByTagName(\"head\")[0].appendChild(s);\n",
       "          s.async = true;\n",
       "          s.onload = () => {\n",
       "            VEGA_DEBUG[key] = version;\n",
       "            return resolve(paths[lib]);\n",
       "          };\n",
       "          s.onerror = () => reject(`Error loading script: ${paths[lib]}`);\n",
       "          s.src = paths[lib];\n",
       "        });\n",
       "    }\n",
       "\n",
       "    function showError(err) {\n",
       "      outputDiv.innerHTML = `<div class=\"error\" style=\"color:red;\">${err}</div>`;\n",
       "      throw err;\n",
       "    }\n",
       "\n",
       "    function displayChart(vegaEmbed) {\n",
       "      vegaEmbed(outputDiv, spec, embedOpt)\n",
       "        .catch(err => showError(`Javascript Error: ${err.message}<br>This usually means there's a typo in your chart specification. See the javascript console for the full traceback.`));\n",
       "    }\n",
       "\n",
       "    if(typeof define === \"function\" && define.amd) {\n",
       "      requirejs.config({paths});\n",
       "      require([\"vega-embed\"], displayChart, err => showError(`Error loading script: ${err.message}`));\n",
       "    } else {\n",
       "      maybeLoadScript(\"vega\", \"5\")\n",
       "        .then(() => maybeLoadScript(\"vega-lite\", \"4.17.0\"))\n",
       "        .then(() => maybeLoadScript(\"vega-embed\", \"6\"))\n",
       "        .catch(showError)\n",
       "        .then(() => displayChart(vegaEmbed));\n",
       "    }\n",
       "  })({\"config\": {\"view\": {\"continuousWidth\": 400, \"continuousHeight\": 300, \"strokeOpacity\": 0}, \"font\": \"League Spartan\", \"range\": {\"category\": [\"#008080\", \"#aaaaaa\", \"#dd0000\", \"#eeeeee\", \"#444444\"]}}, \"data\": {\"name\": \"data-6e185d148f03ae53209376e431ff2a86\"}, \"facet\": {\"row\": {\"field\": \"name\", \"header\": {\"labels\": false}, \"sort\": {\"field\": \"ix\"}, \"title\": null, \"type\": \"nominal\"}}, \"spec\": {\"layer\": [{\"mark\": {\"type\": \"text\", \"align\": \"left\", \"dx\": -200, \"fontSize\": {\"expr\": \"(1 - 0.2 * datum.level_0) * 20\"}, \"xOffset\": {\"expr\": \"datum.level_0 * 20\"}, \"yOffset\": -20}, \"encoding\": {\"text\": {\"field\": \"name\", \"type\": \"nominal\"}}}, {\"mark\": {\"type\": \"bar\", \"height\": 6, \"xOffset\": {\"expr\": \"datum.level_0 * 20\"}, \"yOffset\": -10}, \"encoding\": {\"color\": {\"field\": \"color_key\", \"legend\": null, \"type\": \"nominal\"}, \"order\": {\"field\": \"split\", \"type\": \"quantitative\"}, \"x\": {\"axis\": {\"labels\": false, \"title\": null}, \"field\": \"value\", \"stack\": \"normalize\", \"type\": \"quantitative\"}, \"y\": {\"axis\": {\"labels\": false, \"title\": null}, \"field\": \"variable\", \"sort\": [\"offset\", \"tick\", \"excepted\", \"fail\"], \"type\": \"nominal\"}}, \"transform\": [{\"fold\": [\"offset\", \"tick\", \"excepted\", \"fail\"]}, {\"calculate\": \"indexof(['offset', 'tick', 'excepted', 'fail'], datum.key)\", \"as\": \"split\"}, {\"calculate\": \"datum.final && datum.key == \\\"fail\\\" ? \\\"fail_all\\\" : datum.key\", \"as\": \"color_key\"}]}, {\"mark\": {\"type\": \"rect\", \"color\": \"#f8f8f8\", \"height\": 60, \"x\": 0, \"x2\": {\"expr\": \"datum.level_0 * 20 * 0.9\"}, \"yOffset\": 20}}, {\"mark\": {\"type\": \"rect\", \"color\": \"#008080\", \"height\": 60, \"x\": 0, \"x2\": {\"expr\": \"datum.level_0 * 20 * 0.1\"}, \"yOffset\": 20}}, {\"layer\": [{\"mark\": {\"type\": \"rect\", \"cornerRadius\": 10, \"cursor\": \"pointer\", \"height\": 30, \"x2Offset\": {\"expr\": \"datum.level_0 * 20\"}, \"xOffset\": {\"expr\": \"datum.level_0 * 20\"}, \"yOffset\": 20}, \"encoding\": {\"color\": {\"condition\": {\"value\": \"#eeeeee\", \"selection\": \"selector001\"}, \"value\": \"#27a827\"}, \"x\": {\"datum\": 0}, \"x2\": {\"field\": \"tick_norm\", \"type\": \"quantitative\"}}, \"selection\": {\"selector001\": {\"type\": \"single\", \"empty\": \"none\"}}}, {\"mark\": {\"type\": \"rect\", \"cornerRadius\": 10, \"cursor\": \"auto\", \"height\": 30, \"x2Offset\": {\"expr\": \"datum.level_0 * 20\"}, \"xOffset\": {\"expr\": \"datum.level_0 * 20\"}, \"yOffset\": 20}, \"encoding\": {\"color\": {\"condition\": {\"value\": \"#eeeeee\", \"selection\": \"selector001\"}, \"value\": \"#008080\"}, \"x\": {\"field\": \"pass_norm\", \"type\": \"quantitative\"}, \"x2\": {\"field\": \"tick_norm\", \"type\": \"quantitative\"}}}, {\"mark\": {\"type\": \"rect\", \"cornerRadius\": 10, \"cursor\": \"auto\", \"height\": 30, \"x2Offset\": {\"expr\": \"datum.level_0 * 20\"}, \"xOffset\": {\"expr\": \"datum.level_0 * 20\"}, \"yOffset\": 20}, \"encoding\": {\"color\": {\"condition\": {\"value\": \"#eeeeee\", \"selection\": \"selector001\"}, \"value\": \"#008080\"}, \"x\": {\"field\": \"pass_norm\", \"type\": \"quantitative\"}, \"x2\": {\"datum\": 1}}, \"transform\": [{\"filter\": \"(!datum.final)\"}]}, {\"mark\": {\"type\": \"rect\", \"cornerRadius\": 10, \"cursor\": \"pointer\", \"height\": 30, \"x2Offset\": {\"expr\": \"datum.level_0 * 20\"}, \"xOffset\": {\"expr\": \"datum.level_0 * 20\"}, \"yOffset\": 20}, \"encoding\": {\"color\": {\"condition\": {\"value\": \"#eeeeee\", \"selection\": \"selector002\"}, \"value\": \"#dd0000\"}, \"x\": {\"field\": \"pass_norm\", \"type\": \"quantitative\"}, \"x2\": {\"datum\": 1}}, \"selection\": {\"selector002\": {\"type\": \"single\", \"empty\": \"none\"}}, \"transform\": [{\"filter\": \"datum.final\"}]}, {\"mark\": {\"type\": \"text\", \"align\": \"left\", \"dx\": -200, \"fontSize\": {\"expr\": \"(1 - 0.2 * datum.level_0) * 20\"}, \"xOffset\": {\"expr\": \"datum.level_0 * 20 + 5\"}, \"yOffset\": 10}, \"encoding\": {\"opacity\": {\"condition\": {\"value\": 0.9, \"selection\": \"selector001\"}, \"value\": 0.05}, \"text\": {\"field\": \"joined_samples\", \"type\": \"nominal\"}}, \"transform\": [{\"calculate\": \"join(datum.samples, \\\", \\\")\", \"as\": \"joined_samples\"}]}, {\"mark\": {\"type\": \"text\", \"align\": \"left\", \"color\": \"white\", \"dx\": -200, \"fontSize\": {\"expr\": \"(1 - 0.2 * datum.level_0) * 20\"}, \"text\": {\"expr\": \"round(datum.tick * 100 / datum.total) + \\\"% (\\\" + datum.tick + \\\")\\\"\"}, \"xOffset\": {\"expr\": \"datum.level_0 * 20 + 5\"}, \"yOffset\": 10}, \"encoding\": {\"opacity\": {\"condition\": {\"value\": 0, \"selection\": \"selector001\"}, \"value\": 1}}}, {\"mark\": {\"type\": \"text\", \"align\": \"left\", \"color\": \"red\", \"dx\": -200, \"fontSize\": 15, \"fontWeight\": \"bold\", \"xOffset\": {\"expr\": \"datum.level_0 * 20 + 20\"}, \"yOffset\": 30}, \"encoding\": {\"opacity\": {\"condition\": {\"value\": 0.9, \"selection\": \"selector001\"}, \"value\": 0.0}, \"text\": {\"field\": \"joined_samples\", \"type\": \"nominal\"}}, \"transform\": [{\"filter\": \"datum.final\"}, {\"calculate\": \"\\\"...\\\" + join(datum.samples_fail, \\\", \\\")\", \"as\": \"joined_samples\"}]}, {\"mark\": {\"type\": \"text\", \"align\": \"right\", \"color\": \"white\", \"dx\": -200, \"fontSize\": {\"expr\": \"(1 - 0.2 * datum.level_0) * 13\"}, \"fontWeight\": \"bold\", \"text\": {\"expr\": \"\\\"Exc: \\\" + round(datum.excepted * 100 / datum.total) + \\\"% (\\\" + datum.excepted + \\\")\\\"\"}, \"xOffset\": {\"expr\": \"datum.level_0 * 20 + 380\"}, \"yOffset\": 3}, \"encoding\": {\"opacity\": {\"condition\": {\"value\": 0, \"selection\": \"selector001\"}, \"value\": 1}}, \"transform\": [{\"filter\": \"datum.final\"}]}, {\"mark\": {\"type\": \"text\", \"align\": \"right\", \"color\": \"white\", \"dx\": -200, \"fontSize\": {\"expr\": \"(1 - 0.2 * datum.level_0) * 13\"}, \"fontWeight\": \"bold\", \"text\": {\"expr\": \"\\\"F: \\\" + round(datum.fail * 100 / datum.total) + \\\"% (\\\" + datum.fail + \\\")\\\"\"}, \"xOffset\": {\"expr\": \"datum.level_0 * 20 + 380\"}, \"yOffset\": 18}, \"encoding\": {\"opacity\": {\"condition\": {\"value\": 0, \"selection\": \"selector001\"}, \"value\": 1}}, \"transform\": [{\"filter\": \"datum.final\"}]}]}], \"transform\": [{\"calculate\": \"datum.pass + datum.fail\", \"as\": \"used\"}, {\"calculate\": \"datum.excepted / datum.used\", \"as\": \"excepted_norm\"}, {\"calculate\": \"datum.pass / datum.used\", \"as\": \"pass_norm\"}, {\"calculate\": \"datum.tick / datum.used\", \"as\": \"tick_norm\"}, {\"calculate\": \"datum.fail / datum.used\", \"as\": \"fail_norm\"}]}, \"padding\": 0, \"spacing\": 0, \"$schema\": \"https://vega.github.io/schema/vega-lite/v4.17.0.json\", \"datasets\": {\"data-6e185d148f03ae53209376e431ff2a86\": [{\"level_0\": 0, \"level_1\": 0, \"pass\": 181044, \"tick\": 177784, \"fail\": 270, \"samples\": [\"As\", \"l\\u00e1r\", \"na\", \"tubaiste\", \"is\"], \"samples_fail\": [\"agena\", \"Bordcheantair\", \"Bhordcheantar\", \"tsecoind\", \"magenta\"], \"offset\": 0, \"excepted\": 3260, \"name\": \"Caol le caol, leathan le leathan\", \"total\": 181314, \"final\": true}, {\"level_0\": 1, \"level_1\": 0, \"pass\": 180, \"tick\": 180, \"fail\": 3350, \"samples\": [\"Ansin\", \"Anseo\"], \"samples_fail\": [\"gCeanncheathr\\u00fa\", \"faoina\", \"neamhchead\", \"ina\", \"thraenacha\"], \"offset\": 0, \"excepted\": 0, \"name\": \"...ach amh\\u00e1in 'ansin' agus 'anseo'\", \"total\": 3530, \"final\": false}, {\"level_0\": 1, \"level_1\": 1, \"pass\": 1800, \"tick\": 1800, \"fail\": 1550, \"samples\": [\"gCeanncheathr\\u00fa\", \"neamhchead\", \"inr\\u00e1taithe\", \"comhioml\\u00e1n\", \"tSeanchill\"], \"samples_fail\": [\"faoina\", \"ina\", \"thraenacha\", \"ar\\u00eds\", \"lena\"], \"offset\": 180, \"excepted\": 0, \"name\": \"...agus roinnt focail chumaisc\", \"total\": 3530, \"final\": false}, {\"level_0\": 1, \"level_1\": 2, \"pass\": 1064, \"tick\": 1064, \"fail\": 486, \"samples\": [\"faoina\", \"ina\", \"lena\", \"inar\", \"Lena\"], \"samples_fail\": [\"thraenacha\", \"ar\\u00eds\", \"biro\", \"age\", \"agena\"], \"offset\": 1980, \"excepted\": 0, \"name\": \"...agus roinnt reamhfhocail\", \"total\": 3530, \"final\": false}, {\"level_0\": 1, \"level_1\": 3, \"pass\": 78, \"tick\": 78, \"fail\": 408, \"samples\": [\"thraenacha\", \"Gaelscoileanna\", \"haturnaetha\", \"Ghaelach\", \"gc\\u00e9adlaethanta\"], \"samples_fail\": [\"ar\\u00eds\", \"biro\", \"age\", \"agena\", \"Bordcheantair\"], \"offset\": 3044, \"excepted\": 0, \"name\": \"...agus nuair a bh\\u00edonn 'ae' leathan i nd\\u00e1irire\", \"total\": 3530, \"final\": false}, {\"level_0\": 1, \"level_1\": 4, \"pass\": 96, \"tick\": 96, \"fail\": 312, \"samples\": [\"ar\\u00eds\", \"age\", \"n-atriam\", \"ariamh\", \"ar\\u00e9ir\"], \"samples_fail\": [\"biro\", \"agena\", \"Bordcheantair\", \"Bhordcheantar\", \"tsecoind\"], \"offset\": 3122, \"excepted\": 0, \"name\": \"...agus roinnt dobhr\\u00edathair a thosa\\u00edonn le 'a'\", \"total\": 3530, \"final\": false}, {\"level_0\": 1, \"level_1\": 5, \"pass\": 36, \"tick\": 36, \"fail\": 276, \"samples\": [\"biro\", \"Comptroller-General\", \"twaddle\", \"LINGUA\", \"petroleum\"], \"samples_fail\": [\"agena\", \"Bordcheantair\", \"Bhordcheantar\", \"tsecoind\", \"magenta\"], \"offset\": 3218, \"excepted\": 0, \"name\": \"...agus focail iasachta\", \"total\": 3530, \"final\": false}, {\"level_0\": 1, \"level_1\": 6, \"pass\": 6, \"tick\": 6, \"fail\": 270, \"samples\": [\"f\\u00e9adfidh\"], \"samples_fail\": [\"agena\", \"Bordcheantair\", \"Bhordcheantar\", \"tsecoind\", \"magenta\"], \"offset\": 3254, \"excepted\": 0, \"name\": \"...agus 'f\\u00e9adfidh'\", \"total\": 3530, \"final\": true}]}}, {\"mode\": \"vega-lite\"});\n",
       "</script>"
      ],
      "text/plain": [
       "<altair.vegalite.v4.display.VegaLite at 0x7fd02e5d8370>"
      ]
     },
     "execution_count": 37,
     "metadata": {},
     "output_type": "execute_result"
    }
   ],
   "source": [
    "from altair import vegalite\n",
    "\n",
    "vegalite.display.VegaLite._validate = lambda self: True\n",
    "vegalite.display.VegaLite(ad)"
   ]
  },
  {
   "cell_type": "code",
   "execution_count": null,
   "id": "03df9d0a",
   "metadata": {},
   "outputs": [],
   "source": []
  }
 ],
 "metadata": {
  "kernelspec": {
   "display_name": "Python 3 (ipykernel)",
   "language": "python",
   "name": "python3"
  },
  "language_info": {
   "codemirror_mode": {
    "name": "ipython",
    "version": 3
   },
   "file_extension": ".py",
   "mimetype": "text/x-python",
   "name": "python",
   "nbconvert_exporter": "python",
   "pygments_lexer": "ipython3",
   "version": "3.9.7"
  }
 },
 "nbformat": 4,
 "nbformat_minor": 5
}
