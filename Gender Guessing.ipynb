{
 "cells": [
  {
   "cell_type": "markdown",
   "id": "64f36f89",
   "metadata": {},
   "source": [
    "# Soirbhíochas Gender Demo"
   ]
  },
  {
   "cell_type": "markdown",
   "id": "325e7bee",
   "metadata": {},
   "source": [
    "A common challenge for students learning Irish is to identify a noun's gender. Any set of rules for doing so has many exceptions, but we try one set below to see how they get on against a representative set of pre-analysed sentences.\n",
    "\n",
    "It is important to note that Soirbhíochas is a tool for showing how a rule and its exceptions combine to cover most or all circumstances. This is subtly different from seeing how adding each exception _changes_ the outcome (that's a nice to have for the future), but the simplest is that you _need to be able to know an exception only applies to cases that break the rule_. Hence we assume you know the gender and say \"all words are masculine, unless they are feminine and slender...\" instead of starting with you not knowing and saying \"assume a word is masculine, unless it is slender\". If this doesn't make sense, don't worry, but bear in mind that the graph below will not tell you how effective assuming slender words are feminine and non-slender words are masculine is, so if you can tell that, you're reading it wrong :) (but you could adjust the rules a bit to find out)"
   ]
  },
  {
   "cell_type": "markdown",
   "id": "b54d64f8",
   "metadata": {},
   "source": [
    "The ruleset we use below is taken from [Wikibooks](https://en.wikibooks.org/wiki/Irish/Reference/Nouns) but it is a common sequence. The order is mixed a little, as it is a more accurate (but not perfect) assumption that a country or language is feminine, than determining whether it is \"feminine _and_ slender\" if you don't know the gender in the first place.\n",
    "\n",
    "A significant sidepoint is that most of these gender-guessing rules assume you know the root of the word (and therefore also whether it is in the root form). For instance, the rules work for `Meáinmhuir (f)` (Mediterranean) but not `Meáinmhara` (same in genitive). While having the lemma (base form) is another stumbling block, it's sometimes guessable more easily than the gender, so try comparing the results using `WITH_LEMMA` on (when you see a word, you try its lemma against the rules) and off (you apply the rules to the word itself)."
   ]
  },
  {
   "cell_type": "markdown",
   "id": "707706a7",
   "metadata": {},
   "source": [
    "For this demo to work, you will need a copy of the Irish Universal Dependencies treebank (`ga_idt-ud-train.conllu`), a copy of common prefixes in Irish (WARNING: VERY ROUGH) from `github.com/philtweir/wikt-irish-prefixes` and the BuNaMo corpus, which should by default be placed in `./data` (`github.com/michmech/BuNaMo`). If you have any difficulty finding these, check the `build.sh` script."
   ]
  },
  {
   "cell_type": "code",
   "execution_count": 1,
   "id": "ee7f97f4",
   "metadata": {},
   "outputs": [
    {
     "name": "stderr",
     "output_type": "stream",
     "text": [
      "WARNING:root:You are using the v2 package within GramadánPy. It has not been fully tested, and is not comparable to the real Gramadán functionality... you have been warned!\n",
      "To address perceived minor issues, this actually changes some of the regex matching in Opers.Slenderize - marked with a v2 flag.\n"
     ]
    }
   ],
   "source": [
    "from soirbhiochas import staidreamh\n",
    "from soirbhiochas import visualization\n",
    "from soirbhiochas.leabharlann import * # simplifies rule-building"
   ]
  },
  {
   "cell_type": "code",
   "execution_count": 2,
   "id": "74cc1131",
   "metadata": {},
   "outputs": [],
   "source": [
    "from soirbhiochas.díolaim import Díolaim, CorrectionDict\n",
    "from soirbhiochas.parsáil import Lexicon"
   ]
  },
  {
   "cell_type": "code",
   "execution_count": 3,
   "id": "1f17bb03",
   "metadata": {},
   "outputs": [],
   "source": [
    "CONLLU = \"ga_idt-ud-train.conllu\"\n",
    "TYPOS = \"suspected_typos.txt\""
   ]
  },
  {
   "cell_type": "code",
   "execution_count": 4,
   "id": "b18eadec",
   "metadata": {},
   "outputs": [],
   "source": [
    "corrections: CorrectionDict = {}\n",
    "\n",
    "with open(TYPOS, 'r') as f:\n",
    "    correction_lines = f.readlines()\n",
    "for line in correction_lines:\n",
    "    from_form, from_upos, to_form, to_upos = line.strip().split(',')\n",
    "    corrections[(from_upos, from_form)] = (to_upos, to_form)"
   ]
  },
  {
   "cell_type": "code",
   "execution_count": 5,
   "id": "9bc48124",
   "metadata": {},
   "outputs": [],
   "source": [
    "lexicon = Lexicon()\n",
    "lexicon.load()"
   ]
  },
  {
   "cell_type": "markdown",
   "id": "b95ad20d",
   "metadata": {},
   "source": [
    "## A choice"
   ]
  },
  {
   "cell_type": "markdown",
   "id": "ffdf9253",
   "metadata": {},
   "source": [
    "Firstly, we decide whether we want to assume we can guess a word's lemma correctly - most of the \"which gender is this noun?\" strategies assume you can."
   ]
  },
  {
   "cell_type": "code",
   "execution_count": 6,
   "id": "d07d8f88",
   "metadata": {},
   "outputs": [],
   "source": [
    "WITH_LEMMA = True\n",
    "\n",
    "def m(focal):\n",
    "    return focal.lemma if WITH_LEMMA else (focal)"
   ]
  },
  {
   "cell_type": "markdown",
   "id": "f172e446",
   "metadata": {},
   "source": [
    "## Rule-building"
   ]
  },
  {
   "cell_type": "markdown",
   "id": "078cb32e",
   "metadata": {},
   "source": [
    "Here we build our gender-guesser using a series of rules."
   ]
  },
  {
   "cell_type": "code",
   "execution_count": 7,
   "id": "8aadadd7",
   "metadata": {},
   "outputs": [],
   "source": [
    "from gramadan.features import Gender\n",
    "from gramadan.v2.entity import Entity\n",
    "from gramadan.v2.opers import Opers\n",
    "from gramadan.v2.noun import Noun\n",
    "\n",
    "from soirbhiochas.rialacha import Riail\n",
    "from soirbhiochas.parsáil import FocalGinearalta\n",
    "\n",
    "class GlacFirinscneach(Riail):\n",
    "    gairid = \"Glac firinscneach\"\n",
    "    prefix = \"gf\"\n",
    "    fada = \"Glac leis go bhfuil gach focal firinscneach\"\n",
    "    béarla = \"Assume every word is masculine\"\n",
    "    míniú = \"Tá formhór na bhfocal firinscneach, mar sin glac leis go bhfuil siad uile\"\n",
    "    soláithraíonn = ()\n",
    "\n",
    "    def tástáladh(self, focal: FocalGinearalta) -> bool:\n",
    "        return focal.focal.gender == Gender.Masc"
   ]
  },
  {
   "cell_type": "markdown",
   "id": "f2891266",
   "metadata": {},
   "source": [
    "The first is very simple: we \"pass\" the check if the word is masculine - i.e. the rule is that all words are masculine (most of the code above is helptext)."
   ]
  },
  {
   "cell_type": "code",
   "execution_count": 8,
   "id": "ca409715",
   "metadata": {},
   "outputs": [],
   "source": [
    "def deireadh_caol(focal: FocalGinearalta) -> bool:\n",
    "    return Opers.IsSlenderEnding(m(focal))"
   ]
  },
  {
   "cell_type": "markdown",
   "id": "fe99ef2f",
   "metadata": {},
   "source": [
    "The next is not much more complex - this will pass if the word ends in a slender consonant or vowel."
   ]
  },
  {
   "cell_type": "code",
   "execution_count": 9,
   "id": "f3923f5e",
   "metadata": {},
   "outputs": [],
   "source": [
    "import re\n",
    "\n",
    "KNOWN_FEMININE_ENDINGS = [\n",
    "    \"eog\",\n",
    "    \"óg\",\n",
    "    \"lann\"\n",
    "]\n",
    "re_fe = re.compile(f\"({'|'.join(KNOWN_FEMININE_ENDINGS)})$\")\n",
    "\n",
    "def has_a_known_feminine_ending(focal: FocalGinearalta) -> bool:\n",
    "    return (re_fe.search(m(focal)) is not None)"
   ]
  },
  {
   "cell_type": "markdown",
   "id": "01b253c1",
   "metadata": {},
   "source": [
    "This one uses a regular expression to see if the word ends in one of the listed endings."
   ]
  },
  {
   "cell_type": "code",
   "execution_count": 10,
   "id": "b3663a84",
   "metadata": {},
   "outputs": [],
   "source": [
    "def is_a_multisyllable_word_ending_in_acht_or_íocht(focal: FocalGinearalta) -> bool:\n",
    "    return (\n",
    "        (re.search(\"(acht|íocht)$\", m(focal)) is not None) and\n",
    "        Opers.PolysyllabicV2(m(focal))\n",
    "    )"
   ]
  },
  {
   "cell_type": "markdown",
   "id": "3afba2bd",
   "metadata": {},
   "source": [
    "Here, we use a little more of GramadánPy's tooling to pick out polysyllabic words ending in certain endings."
   ]
  },
  {
   "cell_type": "code",
   "execution_count": 11,
   "id": "832ef9cf",
   "metadata": {},
   "outputs": [],
   "source": [
    "relevant_fourth_declension_feminine_words = set()\n",
    "def is_fourth_declension_feminine(focal: FocalGinearalta) -> bool:\n",
    "    if m(focal)[-1] not in Opers.VowelsSlender or focal < \"PROPN\":\n",
    "        return False\n",
    "    \n",
    "    # We record this simply so you can see what they are later\n",
    "    if focal.focal.gender == Gender.Fem:\n",
    "        relevant_fourth_declension_feminine_words.add(focal.focal.getLemma())\n",
    "    \n",
    "    return focal.focal.declension == 4"
   ]
  },
  {
   "cell_type": "markdown",
   "id": "9137c315",
   "metadata": {},
   "source": [
    "Finally, we make a rule that checks if a noun is fourth declension and ending in e or i - this probably seems more complicated than knowing its gender! However, we know this will be run only in the scenario that the word is feminine, so this is a good approximation (but far from perfect) for \"abstract nouns\" ending in a slender vowel (e.g. comhairle or aiste)."
   ]
  },
  {
   "cell_type": "code",
   "execution_count": 12,
   "id": "8c66e7a7",
   "metadata": {},
   "outputs": [],
   "source": [
    "from soirbhiochas.collections import COUNTRIES, LANGUAGES\n",
    "\n",
    "def is_a_country(focal: FocalGinearalta):\n",
    "    return focal < \"PROPN\" and focal in COUNTRIES\n",
    "\n",
    "def is_a_language(focal: FocalGinearalta):\n",
    "    return focal < \"PROPN\" and focal in LANGUAGES"
   ]
  },
  {
   "cell_type": "markdown",
   "id": "3394364b",
   "metadata": {},
   "source": [
    "Lastly, we use two collections - one for countries and one for languages (bear in mind, both are imperfect, we're playing the odds over a large corpus). These are a little bit smart, so, for example, even if some countries always appear with or without a definite article, this should match either way (e.g. if you search for `an tSin` or `Sin`)."
   ]
  },
  {
   "cell_type": "code",
   "execution_count": 13,
   "id": "f07752a2",
   "metadata": {},
   "outputs": [],
   "source": [
    "PIOC_INSCNE = (GlacFirinscneach()\n",
    "    .eisceacht_a_dhéanamh(\n",
    "        is_a_language,\n",
    "        \"...or if it is a feminine language\"\n",
    "    )\n",
    "    .eisceacht_a_dhéanamh(\n",
    "        is_a_country,\n",
    "        \"...or if it is a feminine country\"\n",
    "    )\n",
    "    .eisceacht_a_dhéanamh(\n",
    "        is_fourth_declension_feminine,\n",
    "        \"...or it is (roughly) a feminine abstract noun ending in e/i\"\n",
    "    )\n",
    "    .eisceacht_a_dhéanamh(\n",
    "        is_a_multisyllable_word_ending_in_acht_or_íocht,\n",
    "        \"...or if it is a feminine multisyllable word with known ending\"\n",
    "    )\n",
    "    .eisceacht_a_dhéanamh(\n",
    "        has_a_known_feminine_ending,\n",
    "        \"...or if it is a feminine word with another standard feminine ending\"\n",
    "    )\n",
    "    .eisceacht_a_dhéanamh(\n",
    "        deireadh_caol,\n",
    "        \"...or if it is feminine with a slender ending\"\n",
    "    )\n",
    ")"
   ]
  },
  {
   "cell_type": "markdown",
   "id": "2da51333",
   "metadata": {},
   "source": [
    "Now, we put it all together. We explicit note that the exceptions are all only matching feminine words. All that remains is to load the corpus and run it."
   ]
  },
  {
   "cell_type": "markdown",
   "id": "d0be26df",
   "metadata": {},
   "source": [
    "## Dictionary data\n",
    "\n",
    "Next we load dictionaries and third-party data."
   ]
  },
  {
   "cell_type": "code",
   "execution_count": 14,
   "id": "cc5a8264",
   "metadata": {},
   "outputs": [],
   "source": [
    "staidreamh.add_loadable(\"prefixes\", \"wikt-irish-prefixes/wikt-irish-prefixes.txt\")\n",
    "staidreamh.add_loadable(\"countries\", \"wikt-irish-prefixes/countries-ga.txt\")\n",
    "staidreamh.add_loadable(\"languages\", \"wikt-irish-prefixes/wikt-languages.txt\")\n",
    "staidreamh.add_loadable(\"lexicon\", lexicon)\n",
    "\n",
    "corpas = Díolaim.cruthaíodh_as_comhad(CONLLU, lexicon.find_by_token, corrections=corrections)"
   ]
  },
  {
   "cell_type": "code",
   "execution_count": 15,
   "id": "2073cd84",
   "metadata": {},
   "outputs": [],
   "source": [
    "SEEMINGLY_BROKEN = (\"ann\", \"doh\", \"té\", \"sul\", \"(e)amar\", \"uile\")\n",
    "# I could be wrong, but the above appear as normal (not e.g. substantive or loaned) nouns\n",
    "# at least once in corpus with insufficient information to use them, so we skip.\n",
    "\n",
    "def only_nouns_with_known_gender(focal: FocalGinearalta):\n",
    "    return (focal < \"NOUN\" or focal < \"PROPN\") and \\\n",
    "        focal.focal and focal.focal.gender and \\\n",
    "        focal.focal.getLemma() and \\\n",
    "        focal.token.form not in SEEMINGLY_BROKEN"
   ]
  },
  {
   "cell_type": "markdown",
   "id": "40e85626",
   "metadata": {},
   "source": [
    "We will want to filter the whole corpus to certain words - for instance, these rules cannot test adjectives, and we need to have gender and the lemma available to run the rules."
   ]
  },
  {
   "cell_type": "markdown",
   "id": "b51353a4",
   "metadata": {},
   "source": [
    "\n",
    "## Executing the count\n",
    "\n",
    "Finally, we can run the rule and its exceptions against the corpus."
   ]
  },
  {
   "cell_type": "code",
   "execution_count": 16,
   "id": "15475316",
   "metadata": {
    "scrolled": true
   },
   "outputs": [
    {
     "name": "stderr",
     "output_type": "stream",
     "text": [
      "100%|███████████████████████████████████████████████████████████████████████████████████████████████████████████████████████████| 95881/95881 [00:06<00:00, 15360.39it/s]"
     ]
    },
    {
     "name": "stdout",
     "output_type": "stream",
     "text": [
      "Found 366 exceptions\n",
      "            uacht 67            teanga 56           theanga 24\n",
      "             mian 23          foireann 22         fhoireann 20\n",
      "           foirne 18              bean 13              lámh 13\n",
      "          bheatha 12             scoth 11             bhean 10\n",
      "            lámha 10         dteangacha 9              rogha 9\n",
      "            sprioc 9            Feabhra 8          teangacha 8\n",
      "            ríocht 8         athnuachan 8              leath 7\n",
      "            Nuacht 7              láimh 7            iomarca 7\n",
      "               mná 7         cuideachta 7               cuma 6\n",
      "             chuma 6              leaba 6          fadhbanna 6\n",
      "        spriocanna 6              eagla 5            Chraobh 5\n",
      "      gCuideachtaí 5               mhná 5             chluas 5\n",
      "          gCeathrú 5            dteanga 5               pian 4\n",
      "             cluas 4              deoch 4              easpa 4\n",
      "            nGaoth 4                ban 4             críche 4\n",
      "              trua 4             beatha 4              gcéin 4\n",
      "           críocha 4              chois 4           Meitheal 4\n",
      "            láimhe 4             beocht 4        cuideachtaí 4\n",
      "           Réaltaí 4              shlat 3              Iníon 3\n",
      "            clocha 3             chnámh 3             ngaoth 3\n",
      "               cos 3                Úna 3        Athbheochan 3\n",
      "         Caitríona 3             gcloch 3            Siobhán 3\n",
      "            gréine 3              fearg 3           draíocht 3\n",
      "              cois 3        Chuideachta 3              fadhb 3\n",
      "             gcuma 3               Mary 3               méar 3\n",
      "         híomhánna 3            Éideann 3               Anna 3\n",
      "            SINÉAD 3             uachta 3          uachtanna 3\n",
      "          punainne 3            huachta 3            phunann 3\n",
      "            críoch 3         bhfoireann 3       chuideachtaí 3\n",
      "          roghanna 3             gcluas 3             dealbh 2\n",
      "              cian 2              leapa 2               chos 2\n",
      "             mbean 2               mhuc 2             mblian 2\n",
      "     hathbheochana 2            gCraobh 2             Teresa 2\n",
      "           Ríochta 2                bos 2              buíon 2\n",
      "        bhunchloch 2            chreach 2             cnámha 2\n",
      "               Trá 2      fochuideachta 2     fhochuideachta 2\n",
      "             mhian 2            caingne 2                ola 2\n",
      "            toirní 2              Cloch 2            bhFiann 2\n",
      "           nuachta 2            cluaise 2         léachtanna 2\n",
      "            bearna 2          seanbhean 2               long 2\n",
      "              mhór 2             feirge 2           Bhanríon 2\n",
      "         tairseach 2              dtonn 2        bhfadhbanna 2\n",
      "            craobh 2              chosa 2            dleacht 2\n",
      "            bhFíor 2       deirfiúracha 2           deirféar 2\n",
      "            sprice 2            bearnaí 2        mhonarchana 2\n",
      "             Mheal 2          bunchloch 2            gcríoch 2\n",
      "             Íomhá 2      ceanncheathrú 2               ghrian\n",
      "      gCeanncheathrú               mhaime                  bas\n",
      "            lúdracha              shreang              sreinge\n",
      "           easpartan                phian          Caoilfhionn\n"
     ]
    },
    {
     "name": "stderr",
     "output_type": "stream",
     "text": [
      "\n"
     ]
    }
   ],
   "source": [
    "PIOC_INSCNE.set_sample_size(5)\n",
    "counter, statistics = staidreamh.count_rule_by_word(PIOC_INSCNE, corpas.de_réir_focal(), only_nouns_with_known_gender)\n",
    "print(f\"Found {len(counter)} exceptions\")\n",
    "most_common = counter.most_common(150)\n",
    "for row in zip(*[most_common[i::3] for i in range(3)]):\n",
    "    row = [r[0] if r[1] == 1 else f\"{r[0]} {r[1]}\" for r in row]\n",
    "    print(f\"{row[0]: >20} {row[1]: >20} {row[2]: >20}\")\n",
    "\n",
    "counts = PIOC_INSCNE.get_counts()"
   ]
  },
  {
   "cell_type": "markdown",
   "id": "ef8779bf",
   "metadata": {},
   "source": [
    "Note that the exceptions printed at the end are those that have not been caught by any registered exception to the top-level rule (all words are masculine)."
   ]
  },
  {
   "cell_type": "markdown",
   "id": "3246f223",
   "metadata": {},
   "source": [
    "## Visualization"
   ]
  },
  {
   "cell_type": "markdown",
   "id": "eabe0f1b",
   "metadata": {},
   "source": [
    "We now use altair to get an interactive diagram illustrating these counts."
   ]
  },
  {
   "cell_type": "code",
   "execution_count": 17,
   "id": "980d5ae9",
   "metadata": {},
   "outputs": [],
   "source": [
    "ad = visualization.counts_to_vegalite(PIOC_INSCNE.fada, counts)"
   ]
  },
  {
   "cell_type": "code",
   "execution_count": 18,
   "id": "3dd7b002",
   "metadata": {},
   "outputs": [
    {
     "data": {
      "text/html": [
       "\n",
       "<div id=\"altair-viz-bc7101a81c6146e4b559d2552108d54c\"></div>\n",
       "<script type=\"text/javascript\">\n",
       "  var VEGA_DEBUG = (typeof VEGA_DEBUG == \"undefined\") ? {} : VEGA_DEBUG;\n",
       "  (function(spec, embedOpt){\n",
       "    let outputDiv = document.currentScript.previousElementSibling;\n",
       "    if (outputDiv.id !== \"altair-viz-bc7101a81c6146e4b559d2552108d54c\") {\n",
       "      outputDiv = document.getElementById(\"altair-viz-bc7101a81c6146e4b559d2552108d54c\");\n",
       "    }\n",
       "    const paths = {\n",
       "      \"vega\": \"https://cdn.jsdelivr.net/npm//vega@5?noext\",\n",
       "      \"vega-lib\": \"https://cdn.jsdelivr.net/npm//vega-lib?noext\",\n",
       "      \"vega-lite\": \"https://cdn.jsdelivr.net/npm//vega-lite@4.17.0?noext\",\n",
       "      \"vega-embed\": \"https://cdn.jsdelivr.net/npm//vega-embed@6?noext\",\n",
       "    };\n",
       "\n",
       "    function maybeLoadScript(lib, version) {\n",
       "      var key = `${lib.replace(\"-\", \"\")}_version`;\n",
       "      return (VEGA_DEBUG[key] == version) ?\n",
       "        Promise.resolve(paths[lib]) :\n",
       "        new Promise(function(resolve, reject) {\n",
       "          var s = document.createElement('script');\n",
       "          document.getElementsByTagName(\"head\")[0].appendChild(s);\n",
       "          s.async = true;\n",
       "          s.onload = () => {\n",
       "            VEGA_DEBUG[key] = version;\n",
       "            return resolve(paths[lib]);\n",
       "          };\n",
       "          s.onerror = () => reject(`Error loading script: ${paths[lib]}`);\n",
       "          s.src = paths[lib];\n",
       "        });\n",
       "    }\n",
       "\n",
       "    function showError(err) {\n",
       "      outputDiv.innerHTML = `<div class=\"error\" style=\"color:red;\">${err}</div>`;\n",
       "      throw err;\n",
       "    }\n",
       "\n",
       "    function displayChart(vegaEmbed) {\n",
       "      vegaEmbed(outputDiv, spec, embedOpt)\n",
       "        .catch(err => showError(`Javascript Error: ${err.message}<br>This usually means there's a typo in your chart specification. See the javascript console for the full traceback.`));\n",
       "    }\n",
       "\n",
       "    if(typeof define === \"function\" && define.amd) {\n",
       "      requirejs.config({paths});\n",
       "      require([\"vega-embed\"], displayChart, err => showError(`Error loading script: ${err.message}`));\n",
       "    } else {\n",
       "      maybeLoadScript(\"vega\", \"5\")\n",
       "        .then(() => maybeLoadScript(\"vega-lite\", \"4.17.0\"))\n",
       "        .then(() => maybeLoadScript(\"vega-embed\", \"6\"))\n",
       "        .catch(showError)\n",
       "        .then(() => displayChart(vegaEmbed));\n",
       "    }\n",
       "  })({\"config\": {\"view\": {\"continuousWidth\": 400, \"continuousHeight\": 300, \"strokeOpacity\": 0}, \"font\": \"League Spartan\", \"range\": {\"category\": [\"#008080\", \"#aaaaaa\", \"#dd0000\", \"#eeeeee\", \"#444444\"]}}, \"data\": {\"name\": \"data-b25d0432acc141bb323a8254c16d61aa\"}, \"facet\": {\"row\": {\"field\": \"name\", \"header\": {\"labels\": false}, \"sort\": {\"field\": \"ix\"}, \"title\": null, \"type\": \"nominal\"}}, \"spec\": {\"layer\": [{\"mark\": {\"type\": \"text\", \"align\": \"left\", \"dx\": -200, \"fontSize\": {\"expr\": \"(1 - 0.2 * datum.level_0) * 20\"}, \"xOffset\": {\"expr\": \"datum.level_0 * 20\"}, \"yOffset\": -20}, \"encoding\": {\"text\": {\"field\": \"name\", \"type\": \"nominal\"}}}, {\"mark\": {\"type\": \"bar\", \"height\": 6, \"xOffset\": {\"expr\": \"datum.level_0 * 20\"}, \"yOffset\": -10}, \"encoding\": {\"color\": {\"field\": \"color_key\", \"legend\": null, \"type\": \"nominal\"}, \"order\": {\"field\": \"split\", \"type\": \"quantitative\"}, \"x\": {\"axis\": {\"labels\": false, \"title\": null}, \"field\": \"value\", \"stack\": \"normalize\", \"type\": \"quantitative\"}, \"y\": {\"axis\": {\"labels\": false, \"title\": null}, \"field\": \"variable\", \"sort\": [\"offset\", \"tick\", \"excepted\", \"fail\"], \"type\": \"nominal\"}}, \"transform\": [{\"fold\": [\"offset\", \"tick\", \"excepted\", \"fail\"]}, {\"calculate\": \"indexof(['offset', 'tick', 'excepted', 'fail'], datum.key)\", \"as\": \"split\"}, {\"calculate\": \"datum.final && datum.key == \\\"fail\\\" ? \\\"fail_all\\\" : datum.key\", \"as\": \"color_key\"}]}, {\"mark\": {\"type\": \"rect\", \"color\": \"#f8f8f8\", \"height\": 60, \"x\": 0, \"x2\": {\"expr\": \"datum.level_0 * 20 * 0.9\"}, \"yOffset\": 20}}, {\"mark\": {\"type\": \"rect\", \"color\": \"#008080\", \"height\": 60, \"x\": 0, \"x2\": {\"expr\": \"datum.level_0 * 20 * 0.1\"}, \"yOffset\": 20}}, {\"layer\": [{\"mark\": {\"type\": \"rect\", \"cornerRadius\": 10, \"cursor\": \"pointer\", \"height\": 30, \"x2Offset\": {\"expr\": \"datum.level_0 * 20\"}, \"xOffset\": {\"expr\": \"datum.level_0 * 20\"}, \"yOffset\": 20}, \"encoding\": {\"color\": {\"condition\": {\"value\": \"#eeeeee\", \"selection\": \"selector001\"}, \"value\": \"#27a827\"}, \"x\": {\"datum\": 0}, \"x2\": {\"field\": \"tick_norm\", \"type\": \"quantitative\"}}, \"selection\": {\"selector001\": {\"type\": \"single\", \"empty\": \"none\"}}}, {\"mark\": {\"type\": \"rect\", \"cornerRadius\": 10, \"cursor\": \"auto\", \"height\": 30, \"x2Offset\": {\"expr\": \"datum.level_0 * 20\"}, \"xOffset\": {\"expr\": \"datum.level_0 * 20\"}, \"yOffset\": 20}, \"encoding\": {\"color\": {\"condition\": {\"value\": \"#eeeeee\", \"selection\": \"selector001\"}, \"value\": \"#008080\"}, \"x\": {\"field\": \"pass_norm\", \"type\": \"quantitative\"}, \"x2\": {\"field\": \"tick_norm\", \"type\": \"quantitative\"}}}, {\"mark\": {\"type\": \"rect\", \"cornerRadius\": 10, \"cursor\": \"auto\", \"height\": 30, \"x2Offset\": {\"expr\": \"datum.level_0 * 20\"}, \"xOffset\": {\"expr\": \"datum.level_0 * 20\"}, \"yOffset\": 20}, \"encoding\": {\"color\": {\"condition\": {\"value\": \"#eeeeee\", \"selection\": \"selector001\"}, \"value\": \"#008080\"}, \"x\": {\"field\": \"pass_norm\", \"type\": \"quantitative\"}, \"x2\": {\"datum\": 1}}, \"transform\": [{\"filter\": \"(!datum.final)\"}]}, {\"mark\": {\"type\": \"rect\", \"cornerRadius\": 10, \"cursor\": \"pointer\", \"height\": 30, \"x2Offset\": {\"expr\": \"datum.level_0 * 20\"}, \"xOffset\": {\"expr\": \"datum.level_0 * 20\"}, \"yOffset\": 20}, \"encoding\": {\"color\": {\"condition\": {\"value\": \"#eeeeee\", \"selection\": \"selector002\"}, \"value\": \"#dd0000\"}, \"x\": {\"field\": \"pass_norm\", \"type\": \"quantitative\"}, \"x2\": {\"datum\": 1}}, \"selection\": {\"selector002\": {\"type\": \"single\", \"empty\": \"none\"}}, \"transform\": [{\"filter\": \"datum.final\"}]}, {\"mark\": {\"type\": \"text\", \"align\": \"left\", \"dx\": -200, \"fontSize\": {\"expr\": \"(1 - 0.2 * datum.level_0) * 20\"}, \"xOffset\": {\"expr\": \"datum.level_0 * 20 + 5\"}, \"yOffset\": 10}, \"encoding\": {\"opacity\": {\"condition\": {\"value\": 0.9, \"selection\": \"selector001\"}, \"value\": 0.05}, \"text\": {\"field\": \"joined_samples\", \"type\": \"nominal\"}}, \"transform\": [{\"calculate\": \"join(datum.samples, \\\", \\\")\", \"as\": \"joined_samples\"}]}, {\"mark\": {\"type\": \"text\", \"align\": \"left\", \"color\": \"white\", \"dx\": -200, \"fontSize\": {\"expr\": \"(1 - 0.2 * datum.level_0) * 20\"}, \"text\": {\"expr\": \"round(datum.tick * 100 / datum.total) + \\\"% (\\\" + datum.tick + \\\")\\\"\"}, \"xOffset\": {\"expr\": \"datum.level_0 * 20 + 5\"}, \"yOffset\": 10}, \"encoding\": {\"opacity\": {\"condition\": {\"value\": 0, \"selection\": \"selector001\"}, \"value\": 1}}}, {\"mark\": {\"type\": \"text\", \"align\": \"left\", \"color\": \"red\", \"dx\": -200, \"fontSize\": 15, \"fontWeight\": \"bold\", \"xOffset\": {\"expr\": \"datum.level_0 * 20 + 20\"}, \"yOffset\": 30}, \"encoding\": {\"opacity\": {\"condition\": {\"value\": 0.9, \"selection\": \"selector001\"}, \"value\": 0.0}, \"text\": {\"field\": \"joined_samples\", \"type\": \"nominal\"}}, \"transform\": [{\"filter\": \"datum.final\"}, {\"calculate\": \"\\\"...\\\" + join(datum.samples_fail, \\\", \\\")\", \"as\": \"joined_samples\"}]}, {\"mark\": {\"type\": \"text\", \"align\": \"right\", \"color\": \"white\", \"dx\": -200, \"fontSize\": {\"expr\": \"(1 - 0.2 * datum.level_0) * 13\"}, \"fontWeight\": \"bold\", \"text\": {\"expr\": \"\\\"Exc: \\\" + round(datum.excepted * 100 / datum.total) + \\\"% (\\\" + datum.excepted + \\\")\\\"\"}, \"xOffset\": {\"expr\": \"datum.level_0 * 20 + 380\"}, \"yOffset\": 3}, \"encoding\": {\"opacity\": {\"condition\": {\"value\": 0, \"selection\": \"selector001\"}, \"value\": 1}}, \"transform\": [{\"filter\": \"datum.final\"}]}, {\"mark\": {\"type\": \"text\", \"align\": \"right\", \"color\": \"white\", \"dx\": -200, \"fontSize\": {\"expr\": \"(1 - 0.2 * datum.level_0) * 13\"}, \"fontWeight\": \"bold\", \"text\": {\"expr\": \"\\\"F: \\\" + round(datum.fail * 100 / datum.total) + \\\"% (\\\" + datum.fail + \\\")\\\"\"}, \"xOffset\": {\"expr\": \"datum.level_0 * 20 + 380\"}, \"yOffset\": 18}, \"encoding\": {\"opacity\": {\"condition\": {\"value\": 0, \"selection\": \"selector001\"}, \"value\": 1}}, \"transform\": [{\"filter\": \"datum.final\"}]}]}], \"transform\": [{\"calculate\": \"datum.pass + datum.fail\", \"as\": \"used\"}, {\"calculate\": \"datum.excepted / datum.used\", \"as\": \"excepted_norm\"}, {\"calculate\": \"datum.pass / datum.used\", \"as\": \"pass_norm\"}, {\"calculate\": \"datum.tick / datum.used\", \"as\": \"tick_norm\"}, {\"calculate\": \"datum.fail / datum.used\", \"as\": \"fail_norm\"}]}, \"padding\": 0, \"spacing\": 0, \"$schema\": \"https://vega.github.io/schema/vega-lite/v4.17.0.json\", \"datasets\": {\"data-b25d0432acc141bb323a8254c16d61aa\": [{\"level_0\": 0, \"level_1\": 0, \"pass\": 28103, \"tick\": 17960, \"fail\": 963, \"samples\": [\"l\\u00e1r\", \"lu\\u00ed\", \"aig\\u00e9an\", \"solas\", \"\\u00e9iclips\"], \"samples_fail\": [\"ghrian\", \"gCeanncheathr\\u00fa\", \"mhaime\", \"pian\", \"bas\"], \"offset\": 0, \"excepted\": 10143, \"name\": \"Glac leis go bhfuil gach focal firinscneach\", \"total\": 29066, \"final\": true}, {\"level_0\": 1, \"level_1\": 0, \"pass\": 157, \"tick\": 157, \"fail\": 10949, \"samples\": [\"Gaeilge\", \"Ghaeilge\", \"Eabhrais\", \"nGi\\u00fadais\", \"hEabhrais\"], \"samples_fail\": [\"tubaiste\", \"ghrian\", \"f\\u00e1il\", \"ho\\u00edche\", \"dteagmh\\u00e1il\"], \"offset\": 0, \"excepted\": 0, \"name\": \"...or if it is a feminine language\", \"total\": 11106, \"final\": false}, {\"level_0\": 1, \"level_1\": 1, \"pass\": 60, \"tick\": 60, \"fail\": 10889, \"samples\": [\"Ghearm\\u00e1in\", \"Chol\\u00f3im\", \"nGearm\\u00e1in\", \"Fhrainc\", \"Bheilg\"], \"samples_fail\": [\"tubaiste\", \"ghrian\", \"f\\u00e1il\", \"ho\\u00edche\", \"dteagmh\\u00e1il\"], \"offset\": 157, \"excepted\": 0, \"name\": \"...or if it is a feminine country\", \"total\": 11106, \"final\": false}, {\"level_0\": 1, \"level_1\": 2, \"pass\": 903, \"tick\": 903, \"fail\": 9986, \"samples\": [\"tubaiste\", \"ho\\u00edche\", \"Mama\\u00ed\", \"saoirse\", \"imn\\u00ed\"], \"samples_fail\": [\"ghrian\", \"f\\u00e1il\", \"dteagmh\\u00e1il\", \"gCeanncheathr\\u00fa\", \"sagart\\u00f3ireacht\"], \"offset\": 217, \"excepted\": 0, \"name\": \"...or it is (roughly) a feminine abstract noun ending in e/i\", \"total\": 11106, \"final\": false}, {\"level_0\": 1, \"level_1\": 3, \"pass\": 1394, \"tick\": 1394, \"fail\": 8592, \"samples\": [\"sagart\\u00f3ireacht\", \"oifigi\\u00falacht\", \"iarracht\", \"chos\\u00falacht\", \"hiarracht\"], \"samples_fail\": [\"ghrian\", \"f\\u00e1il\", \"dteagmh\\u00e1il\", \"gCeanncheathr\\u00fa\", \"\\u00e1it\"], \"offset\": 1120, \"excepted\": 0, \"name\": \"...or if it is a feminine multisyllable word with known ending\", \"total\": 11106, \"final\": false}, {\"level_0\": 1, \"level_1\": 4, \"pass\": 268, \"tick\": 268, \"fail\": 8324, \"samples\": [\"bialann\", \"Rann\\u00f3g\", \"dheas\\u00f3g\", \"Ceili\\u00farlann\", \"neant\\u00f3ga\"], \"samples_fail\": [\"ghrian\", \"f\\u00e1il\", \"dteagmh\\u00e1il\", \"gCeanncheathr\\u00fa\", \"\\u00e1it\"], \"offset\": 2514, \"excepted\": 0, \"name\": \"...or if it is a feminine word with another standard feminine ending\", \"total\": 11106, \"final\": false}, {\"level_0\": 1, \"level_1\": 5, \"pass\": 7361, \"tick\": 7361, \"fail\": 963, \"samples\": [\"f\\u00e1il\", \"dteagmh\\u00e1il\", \"\\u00e1it\", \"litir\", \"m\\u00e9id\"], \"samples_fail\": [\"ghrian\", \"gCeanncheathr\\u00fa\", \"mhaime\", \"pian\", \"bas\"], \"offset\": 2782, \"excepted\": 0, \"name\": \"...or if it is feminine with a slender ending\", \"total\": 11106, \"final\": true}]}}, {\"mode\": \"vega-lite\"});\n",
       "</script>"
      ],
      "text/plain": [
       "<altair.vegalite.v4.display.VegaLite at 0x7ff75707e0a0>"
      ]
     },
     "execution_count": 18,
     "metadata": {},
     "output_type": "execute_result"
    }
   ],
   "source": [
    "from altair import vegalite\n",
    "\n",
    "vegalite.display.VegaLite._validate = lambda self: True\n",
    "vegalite.display.VegaLite(ad)"
   ]
  },
  {
   "cell_type": "markdown",
   "id": "b41ceb58",
   "metadata": {},
   "source": [
    "And, fairly good news - our rules cover 97% of the words tested in the corpus (with repetition). Unfortunately, to apply them the way they are written, you need to know the gender in the first place! In the future, we can have soirbhíochas split out accuracy scores, so we can see how row-by-row the accuracy changes, and get rid of the assumption of knowing gender up to the final line."
   ]
  },
  {
   "cell_type": "markdown",
   "id": "9b58af25",
   "metadata": {},
   "source": [
    "Lastly, lets see how well \"fourth declension ending in e/i\" approximates abstract nouns:"
   ]
  },
  {
   "cell_type": "code",
   "execution_count": 19,
   "id": "6301fe7a",
   "metadata": {},
   "outputs": [
    {
     "data": {
      "text/plain": [
       "{'Roinnse',\n",
       " 'achainí',\n",
       " 'achoimre',\n",
       " 'aice',\n",
       " 'aicme',\n",
       " 'aigne',\n",
       " 'ailse',\n",
       " 'ainnise',\n",
       " 'airde',\n",
       " 'aire',\n",
       " 'aisce',\n",
       " 'aiste',\n",
       " 'aithne',\n",
       " 'allmhaire',\n",
       " 'ardchomhairle',\n",
       " 'bainistí',\n",
       " 'biaiste',\n",
       " 'braisle',\n",
       " 'bréige',\n",
       " 'brí',\n",
       " 'buaine',\n",
       " 'bunáite',\n",
       " 'caoi',\n",
       " 'clé',\n",
       " 'coimirce',\n",
       " 'coinne',\n",
       " 'coitinne',\n",
       " 'comhairle',\n",
       " 'comhchomhairle',\n",
       " 'cruinne',\n",
       " 'cré',\n",
       " 'cuimhne',\n",
       " 'cuimse',\n",
       " 'cuisle',\n",
       " 'cé',\n",
       " 'daille',\n",
       " 'dea-ghuí',\n",
       " 'deaide',\n",
       " 'dearóile',\n",
       " 'deise',\n",
       " 'deoise',\n",
       " 'diolúine',\n",
       " 'dlinse',\n",
       " 'dlínse',\n",
       " 'drochshláinte',\n",
       " 'dé',\n",
       " 'déanaí',\n",
       " 'díbhe',\n",
       " 'díolúine',\n",
       " 'díthchéille',\n",
       " 'dúiche',\n",
       " 'easláine',\n",
       " 'easláinte',\n",
       " 'eisimirce',\n",
       " 'eite',\n",
       " 'fadtréimhse',\n",
       " 'faiche',\n",
       " 'faillí',\n",
       " 'faire',\n",
       " 'fairsinge',\n",
       " 'farraige',\n",
       " 'feiste',\n",
       " 'fianaise',\n",
       " 'fionraí',\n",
       " 'foiche',\n",
       " 'foinse',\n",
       " 'foraithne',\n",
       " 'fáilte',\n",
       " 'féile',\n",
       " 'fírinne',\n",
       " 'gearrthréimhse',\n",
       " 'gloine',\n",
       " 'glúinte',\n",
       " 'gnáth-thodhchaí',\n",
       " 'gné',\n",
       " 'guaille',\n",
       " 'guí',\n",
       " 'gé',\n",
       " 'imirce',\n",
       " 'imní',\n",
       " 'inbhuaine',\n",
       " 'inmhe',\n",
       " 'inse',\n",
       " 'iomláine',\n",
       " 'iontaise',\n",
       " 'iubhaile',\n",
       " 'laige',\n",
       " 'leisce',\n",
       " 'luath-thréimhse',\n",
       " 'luisne',\n",
       " 'líne',\n",
       " 'maise',\n",
       " 'maithe',\n",
       " 'mamaí',\n",
       " 'mire',\n",
       " 'moille',\n",
       " 'muinchille',\n",
       " 'máthairse',\n",
       " 'mí',\n",
       " 'mí-mhaise',\n",
       " 'míochaine',\n",
       " 'mórfhéile',\n",
       " 'nea-mbrí',\n",
       " 'náire',\n",
       " 'oidhe',\n",
       " 'onnmhaire',\n",
       " 'oíche',\n",
       " 'príomhfhoinse',\n",
       " 'príomhghné',\n",
       " 'raidhse',\n",
       " 'ré',\n",
       " 'sainghné',\n",
       " 'saoire',\n",
       " 'saoirse',\n",
       " 'saolré',\n",
       " 'saoráidí',\n",
       " 'seanré',\n",
       " 'sine',\n",
       " 'sláine',\n",
       " 'sláinte',\n",
       " 'slí',\n",
       " 'sochaí',\n",
       " 'sprechaille',\n",
       " 'sáile',\n",
       " 'taibhse',\n",
       " 'tairbhe',\n",
       " 'taisce',\n",
       " 'taise',\n",
       " 'taisléine',\n",
       " 'taithí',\n",
       " 'timpiste',\n",
       " 'tine',\n",
       " 'todhchaí',\n",
       " 'treise',\n",
       " 'treoirlíne',\n",
       " 'truisle',\n",
       " 'tréimhse',\n",
       " 'tréimse',\n",
       " 'tréithe',\n",
       " 'trócaire',\n",
       " 'tuairimse',\n",
       " 'tuaithe',\n",
       " 'tubaiste',\n",
       " 'tuinairde',\n",
       " 'tuirse',\n",
       " 'tuiste',\n",
       " 'tuí',\n",
       " 'táille',\n",
       " 'uirísle',\n",
       " 'urnaí',\n",
       " 'áirithe',\n",
       " 'áirse',\n",
       " 'ámharaí',\n",
       " 'éachtaí',\n",
       " 'éide',\n",
       " 'éigse',\n",
       " 'éinne',\n",
       " 'íde',\n",
       " 'óige',\n",
       " 'úire'}"
      ]
     },
     "execution_count": 19,
     "metadata": {},
     "output_type": "execute_result"
    }
   ],
   "source": [
    "relevant_fourth_declension_feminine_words"
   ]
  },
  {
   "cell_type": "markdown",
   "id": "cdc3951a",
   "metadata": {},
   "source": [
    "What words aren't there that you might expect to match an \"abstract nouns ending in e/i\" rule (e.g. `dlí (m)`)? Have a look at [Wikibooks Irish: Nouns](https://en.wikibooks.org/wiki/Irish/Reference/Nouns) to dig into this in detail, and see important exceptions called out."
   ]
  }
 ],
 "metadata": {
  "kernelspec": {
   "display_name": "Python 3 (ipykernel)",
   "language": "python",
   "name": "python3"
  },
  "language_info": {
   "codemirror_mode": {
    "name": "ipython",
    "version": 3
   },
   "file_extension": ".py",
   "mimetype": "text/x-python",
   "name": "python",
   "nbconvert_exporter": "python",
   "pygments_lexer": "ipython3",
   "version": "3.9.7"
  }
 },
 "nbformat": 4,
 "nbformat_minor": 5
}
